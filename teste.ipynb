{
 "cells": [
  {
   "cell_type": "code",
   "execution_count": null,
   "metadata": {},
   "outputs": [],
   "source": [
    "# Recebe alfabeto normal\n",
    "alfabeto_normal = input(\"Digite o alfabeto normal: \").lower()\n",
    "# Recebe alfabeto cifrado\n",
    "alfabeto_cifrado = input(\"Digite o alfabeto cifrado: \").lower()\n",
    "# Recebe frase cifrada\n",
    "frase_cifrada = input(\"Digite a frase cifrada: \").lower()\n",
    "# Recebe frase decifrada\n",
    "frase_decifrada = \"\"\n",
    "\n",
    "# Loop para decifrar a frase\n",
    "for caracter in frase_cifrada:\n",
    "    # Verifica se o caracter é uma letra\n",
    "    if caracter.isalpha():\n",
    "        # Recebe a posição da letra no alfabeto cifrado\n",
    "        cifragem = alfabeto_cifrado.index(caracter)\n",
    "        # Recebe a letra correspondente no alfabeto normal\n",
    "        frase_decifrada += alfabeto_normal[cifragem]\n",
    "    # Caso não seja uma letra, adiciona o caracter na frase decifrada\n",
    "    else:\n",
    "        # Adiciona o caracter na frase decifrada\n",
    "        frase_decifrada += caracter\n",
    "\n",
    "print('Frase decifrada:')\n",
    "print(frase_decifrada)\n",
    "\n",
    "\n"
   ]
  },
  {
   "cell_type": "code",
   "execution_count": 5,
   "metadata": {},
   "outputs": [
    {
     "name": "stdout",
     "output_type": "stream",
     "text": [
      "0\n"
     ]
    }
   ],
   "source": [
    "# Pede o numéro de perguntas e a frequência necessária\n",
    "num_perguntas, frequencia = [int(x) for x in input('Digite as perguntas realizadas e a frequência necessária: ').split()]\n",
    "\n",
    "# Pede as perguntas\n",
    "perguntas = [int(x) for x in input('Digite as perguntas: ').split()]\n",
    "\n",
    "# Verifica se alguma pergunta foi realizada a quantidade de vezes necessária\n",
    "for p in range(1, num_perguntas + 1):\n",
    "    # Verifica se a pergunta foi realizada a quantidade de vezes necessária\n",
    "    if perguntas.count(p) >= frequencia:\n",
    "        # Imprime a pergunta\n",
    "        print(f'Pergunta mais realizada: {p}', end=' ')\n",
    "# Caso nenhuma pergunta tenha sido realizada a quantidade de vezes necessária\n",
    "else:\n",
    "    print(0)\n",
    "\n",
    "\n",
    "\n"
   ]
  },
  {
   "cell_type": "code",
   "execution_count": null,
   "metadata": {},
   "outputs": [],
   "source": [
    "qtd_pessoas_escada = int(input('Digite a quantidade de pessoas na escada: '))\n",
    "# Recebe a quantidade de pessoas na escada\n",
    "pessoas_escada = [int(x) for x in input('Digite a quantidade de pessoas na escada: ').split()]\n",
    "\n",
    "if qtd_pessoas_escada != 0:\n",
    "    pass"
   ]
  },
  {
   "cell_type": "code",
   "execution_count": 4,
   "metadata": {},
   "outputs": [
    {
     "name": "stdout",
     "output_type": "stream",
     "text": [
      "A lista de compras é:\n",
      "{'laranja', 'carne', 'suco', 'picles'}\n",
      "A lista de compras é:\n",
      "{'laranja', 'pera'}\n"
     ]
    }
   ],
   "source": [
    "quantidade = int(input('Digite a quantidade: '))\n",
    "\n",
    "for i in range(quantidade):\n",
    "\n",
    "    lista_compras = set()\n",
    "\n",
    "    lista = [str(x) for x in input('Digite a lista: ').split()]\n",
    "    \n",
    "    for produto in lista:\n",
    "        lista_compras.add(produto)\n",
    "\n",
    "    print('A lista de compras é:')\n",
    "    print(lista_compras)"
   ]
  },
  {
   "cell_type": "code",
   "execution_count": 1,
   "metadata": {},
   "outputs": [],
   "source": [
    "linha_selecionada = int(input('Digite a linha: '))\n",
    "operacao = input('Digite a operação[S/N]: ').upper()\n",
    "\n",
    "matriz = []\n",
    "\n",
    "for i in range(12):\n",
    "    linha = []\n",
    "    for coluna in range(12):\n",
    "        elemento = float(input('Digite o elemento: '))\n",
    "        linha.append(elemento)\n",
    "    matriz.append(linha)\n",
    "\n",
    "if operacao == 'S':\n",
    "    soma = sum(matriz[linha_selecionada])\n",
    "    print(f'A soma dos elementos da linha {linha} é {soma:.1f}')\n",
    "elif operacao == 'M':\n",
    "    media = sum(matriz[linha_selecionada]) / len(matriz[linha_selecionada])\n",
    "    print(f'A média dos elementos da {linha_selecionada} é {media:.1f}')"
   ]
  },
  {
   "cell_type": "code",
   "execution_count": 4,
   "metadata": {},
   "outputs": [],
   "source": [
    "import pyautogui\n",
    "pyautogui.moveTo(200,100)"
   ]
  },
  {
   "cell_type": "code",
   "execution_count": 5,
   "metadata": {},
   "outputs": [
    {
     "name": "stdout",
     "output_type": "stream",
     "text": [
      "\n",
      "Programa interrompido pelo usuário.\n"
     ]
    }
   ],
   "source": [
    "import pyautogui\n",
    "import time\n",
    "\n",
    "# Função para mover o mouse\n",
    "def move_mouse(x, y):\n",
    "    pyautogui.moveTo(x, y) \n",
    "\n",
    "# Tempo de espera em segundos entre os movimentos do mouse\n",
    "tempo_espera = 1\n",
    "\n",
    "try:\n",
    "    while True:\n",
    "        # Obtenha as coordenadas atuais do mouse\n",
    "        current_x, current_y = pyautogui.position()\n",
    "\n",
    "        # Adicione um pequeno deslocamento às coordenadas atuais\n",
    "        new_x = current_x + 10\n",
    "        new_y = current_y + 10\n",
    "\n",
    "        # Mova o mouse para as novas coordenadas\n",
    "        move_mouse(new_x, new_y)\n",
    "\n",
    "        # Aguarde por um curto período de tempo\n",
    "        time.sleep(tempo_espera)\n",
    "\n",
    "except KeyboardInterrupt:\n",
    "    print(\"\\nPrograma interrompido pelo usuário.\")\n"
   ]
  },
  {
   "cell_type": "code",
   "execution_count": 14,
   "metadata": {},
   "outputs": [],
   "source": [
    "import pyautogui\n",
    "\n",
    "pyautogui.press('super')"
   ]
  }
 ],
 "metadata": {
  "kernelspec": {
   "display_name": "Python 3",
   "language": "python",
   "name": "python3"
  },
  "language_info": {
   "codemirror_mode": {
    "name": "ipython",
    "version": 3
   },
   "file_extension": ".py",
   "mimetype": "text/x-python",
   "name": "python",
   "nbconvert_exporter": "python",
   "pygments_lexer": "ipython3",
   "version": "3.10.6"
  },
  "orig_nbformat": 4
 },
 "nbformat": 4,
 "nbformat_minor": 2
}
