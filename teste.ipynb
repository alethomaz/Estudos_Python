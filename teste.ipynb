{
 "cells": [
  {
   "cell_type": "code",
   "execution_count": null,
   "metadata": {},
   "outputs": [],
   "source": [
    "# Recebe alfabeto normal\n",
    "alfabeto_normal = input(\"Digite o alfabeto normal: \").lower()\n",
    "# Recebe alfabeto cifrado\n",
    "alfabeto_cifrado = input(\"Digite o alfabeto cifrado: \").lower()\n",
    "# Recebe frase cifrada\n",
    "frase_cifrada = input(\"Digite a frase cifrada: \").lower()\n",
    "# Recebe frase decifrada\n",
    "frase_decifrada = \"\"\n",
    "\n",
    "# Loop para decifrar a frase\n",
    "for caracter in frase_cifrada:\n",
    "    # Verifica se o caracter é uma letra\n",
    "    if caracter.isalpha():\n",
    "        # Recebe a posição da letra no alfabeto cifrado\n",
    "        cifragem = alfabeto_cifrado.index(caracter)\n",
    "        # Recebe a letra correspondente no alfabeto normal\n",
    "        frase_decifrada += alfabeto_normal[cifragem]\n",
    "    # Caso não seja uma letra, adiciona o caracter na frase decifrada\n",
    "    else:\n",
    "        # Adiciona o caracter na frase decifrada\n",
    "        frase_decifrada += caracter\n",
    "\n",
    "print('Frase decifrada:')\n",
    "print(frase_decifrada)\n",
    "\n",
    "\n"
   ]
  }
 ],
 "metadata": {
  "language_info": {
   "name": "python"
  },
  "orig_nbformat": 4
 },
 "nbformat": 4,
 "nbformat_minor": 2
}
